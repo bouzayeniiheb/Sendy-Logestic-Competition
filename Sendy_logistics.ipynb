{
  "nbformat": 4,
  "nbformat_minor": 0,
  "metadata": {
    "kernelspec": {
      "display_name": "Python [conda env:AntonioEnv] *",
      "language": "python",
      "name": "conda-env-AntonioEnv-py"
    },
    "language_info": {
      "codemirror_mode": {
        "name": "ipython",
        "version": 3
      },
      "file_extension": ".py",
      "mimetype": "text/x-python",
      "name": "python",
      "nbconvert_exporter": "python",
      "pygments_lexer": "ipython3",
      "version": "3.7.4"
    },
    "colab": {
      "name": "Sendy logistics.ipynb",
      "provenance": [],
      "include_colab_link": true
    }
  },
  "cells": [
    {
      "cell_type": "markdown",
      "metadata": {
        "id": "view-in-github",
        "colab_type": "text"
      },
      "source": [
        "<a href=\"https://colab.research.google.com/github/bouzayeniiheb/Sendy-Logestic-Competition/blob/master/Sendy_logistics.ipynb\" target=\"_parent\"><img src=\"https://colab.research.google.com/assets/colab-badge.svg\" alt=\"Open In Colab\"/></a>"
      ]
    },
    {
      "cell_type": "code",
      "metadata": {
        "id": "5aslyUICB5NZ",
        "colab_type": "code",
        "colab": {}
      },
      "source": [
        "import numpy as np\n",
        "import seaborn as sns\n",
        "import scipy as sp\n",
        "import matplotlib as plt\n",
        "import pandas as pd\n",
        "import math\n"
      ],
      "execution_count": 0,
      "outputs": []
    },
    {
      "cell_type": "code",
      "metadata": {
        "id": "eFKVsO7tB5Nd",
        "colab_type": "code",
        "colab": {}
      },
      "source": [
        "train=pd.read_csv('/content/Train.csv')\n",
        "test=pd.read_csv('/content/Test.csv')\n",
        "riders=pd.read_csv('/content/Riders.csv')\n",
        "vd=pd.read_csv('/content/VariableDefinitions.csv')\n",
        "train1=pd.read_csv('/content/Train.csv')\n"
      ],
      "execution_count": 0,
      "outputs": []
    },
    {
      "cell_type": "code",
      "metadata": {
        "id": "IL-1Ew6dB5Nh",
        "colab_type": "code",
        "colab": {
          "base_uri": "https://localhost:8080/",
          "height": 400
        },
        "outputId": "516607a0-0b21-4945-a03a-8ea7168a992e"
      },
      "source": [
        "test.head()"
      ],
      "execution_count": 105,
      "outputs": [
        {
          "output_type": "execute_result",
          "data": {
            "text/html": [
              "<div>\n",
              "<style scoped>\n",
              "    .dataframe tbody tr th:only-of-type {\n",
              "        vertical-align: middle;\n",
              "    }\n",
              "\n",
              "    .dataframe tbody tr th {\n",
              "        vertical-align: top;\n",
              "    }\n",
              "\n",
              "    .dataframe thead th {\n",
              "        text-align: right;\n",
              "    }\n",
              "</style>\n",
              "<table border=\"1\" class=\"dataframe\">\n",
              "  <thead>\n",
              "    <tr style=\"text-align: right;\">\n",
              "      <th></th>\n",
              "      <th>Order No</th>\n",
              "      <th>User Id</th>\n",
              "      <th>Vehicle Type</th>\n",
              "      <th>Platform Type</th>\n",
              "      <th>Personal or Business</th>\n",
              "      <th>Placement - Day of Month</th>\n",
              "      <th>Placement - Weekday (Mo = 1)</th>\n",
              "      <th>Placement - Time</th>\n",
              "      <th>Confirmation - Day of Month</th>\n",
              "      <th>Confirmation - Weekday (Mo = 1)</th>\n",
              "      <th>Confirmation - Time</th>\n",
              "      <th>Arrival at Pickup - Day of Month</th>\n",
              "      <th>Arrival at Pickup - Weekday (Mo = 1)</th>\n",
              "      <th>Arrival at Pickup - Time</th>\n",
              "      <th>Pickup - Day of Month</th>\n",
              "      <th>Pickup - Weekday (Mo = 1)</th>\n",
              "      <th>Pickup - Time</th>\n",
              "      <th>Distance (KM)</th>\n",
              "      <th>Temperature</th>\n",
              "      <th>Precipitation in millimeters</th>\n",
              "      <th>Pickup Lat</th>\n",
              "      <th>Pickup Long</th>\n",
              "      <th>Destination Lat</th>\n",
              "      <th>Destination Long</th>\n",
              "      <th>Rider Id</th>\n",
              "    </tr>\n",
              "  </thead>\n",
              "  <tbody>\n",
              "    <tr>\n",
              "      <th>0</th>\n",
              "      <td>Order_No_19248</td>\n",
              "      <td>User_Id_3355</td>\n",
              "      <td>Bike</td>\n",
              "      <td>3</td>\n",
              "      <td>Business</td>\n",
              "      <td>27</td>\n",
              "      <td>3</td>\n",
              "      <td>4:44:10 PM</td>\n",
              "      <td>27</td>\n",
              "      <td>3</td>\n",
              "      <td>4:44:29 PM</td>\n",
              "      <td>27</td>\n",
              "      <td>3</td>\n",
              "      <td>4:53:04 PM</td>\n",
              "      <td>27</td>\n",
              "      <td>3</td>\n",
              "      <td>5:06:47 PM</td>\n",
              "      <td>8</td>\n",
              "      <td>NaN</td>\n",
              "      <td>NaN</td>\n",
              "      <td>-1.333275</td>\n",
              "      <td>36.870815</td>\n",
              "      <td>-1.305249</td>\n",
              "      <td>36.822390</td>\n",
              "      <td>Rider_Id_192</td>\n",
              "    </tr>\n",
              "    <tr>\n",
              "      <th>1</th>\n",
              "      <td>Order_No_12736</td>\n",
              "      <td>User_Id_3647</td>\n",
              "      <td>Bike</td>\n",
              "      <td>3</td>\n",
              "      <td>Business</td>\n",
              "      <td>17</td>\n",
              "      <td>5</td>\n",
              "      <td>12:57:35 PM</td>\n",
              "      <td>17</td>\n",
              "      <td>5</td>\n",
              "      <td>12:59:17 PM</td>\n",
              "      <td>17</td>\n",
              "      <td>5</td>\n",
              "      <td>1:20:27 PM</td>\n",
              "      <td>17</td>\n",
              "      <td>5</td>\n",
              "      <td>1:25:37 PM</td>\n",
              "      <td>5</td>\n",
              "      <td>NaN</td>\n",
              "      <td>NaN</td>\n",
              "      <td>-1.272639</td>\n",
              "      <td>36.794723</td>\n",
              "      <td>-1.277007</td>\n",
              "      <td>36.823907</td>\n",
              "      <td>Rider_Id_868</td>\n",
              "    </tr>\n",
              "    <tr>\n",
              "      <th>2</th>\n",
              "      <td>Order_No_768</td>\n",
              "      <td>User_Id_2154</td>\n",
              "      <td>Bike</td>\n",
              "      <td>3</td>\n",
              "      <td>Business</td>\n",
              "      <td>27</td>\n",
              "      <td>4</td>\n",
              "      <td>11:08:14 AM</td>\n",
              "      <td>27</td>\n",
              "      <td>4</td>\n",
              "      <td>11:25:05 AM</td>\n",
              "      <td>27</td>\n",
              "      <td>4</td>\n",
              "      <td>11:33:20 AM</td>\n",
              "      <td>27</td>\n",
              "      <td>4</td>\n",
              "      <td>11:57:54 AM</td>\n",
              "      <td>5</td>\n",
              "      <td>22.8</td>\n",
              "      <td>NaN</td>\n",
              "      <td>-1.290894</td>\n",
              "      <td>36.822971</td>\n",
              "      <td>-1.276574</td>\n",
              "      <td>36.851365</td>\n",
              "      <td>Rider_Id_26</td>\n",
              "    </tr>\n",
              "    <tr>\n",
              "      <th>3</th>\n",
              "      <td>Order_No_15332</td>\n",
              "      <td>User_Id_2910</td>\n",
              "      <td>Bike</td>\n",
              "      <td>3</td>\n",
              "      <td>Business</td>\n",
              "      <td>17</td>\n",
              "      <td>1</td>\n",
              "      <td>1:51:35 PM</td>\n",
              "      <td>17</td>\n",
              "      <td>1</td>\n",
              "      <td>1:53:27 PM</td>\n",
              "      <td>17</td>\n",
              "      <td>1</td>\n",
              "      <td>2:02:41 PM</td>\n",
              "      <td>17</td>\n",
              "      <td>1</td>\n",
              "      <td>2:16:52 PM</td>\n",
              "      <td>5</td>\n",
              "      <td>24.5</td>\n",
              "      <td>NaN</td>\n",
              "      <td>-1.290503</td>\n",
              "      <td>36.809646</td>\n",
              "      <td>-1.303382</td>\n",
              "      <td>36.790658</td>\n",
              "      <td>Rider_Id_685</td>\n",
              "    </tr>\n",
              "    <tr>\n",
              "      <th>4</th>\n",
              "      <td>Order_No_21373</td>\n",
              "      <td>User_Id_1205</td>\n",
              "      <td>Bike</td>\n",
              "      <td>3</td>\n",
              "      <td>Business</td>\n",
              "      <td>11</td>\n",
              "      <td>2</td>\n",
              "      <td>11:30:28 AM</td>\n",
              "      <td>11</td>\n",
              "      <td>2</td>\n",
              "      <td>11:34:45 AM</td>\n",
              "      <td>11</td>\n",
              "      <td>2</td>\n",
              "      <td>11:47:19 AM</td>\n",
              "      <td>11</td>\n",
              "      <td>2</td>\n",
              "      <td>11:56:04 AM</td>\n",
              "      <td>6</td>\n",
              "      <td>24.4</td>\n",
              "      <td>NaN</td>\n",
              "      <td>-1.281081</td>\n",
              "      <td>36.814423</td>\n",
              "      <td>-1.266467</td>\n",
              "      <td>36.792161</td>\n",
              "      <td>Rider_Id_858</td>\n",
              "    </tr>\n",
              "  </tbody>\n",
              "</table>\n",
              "</div>"
            ],
            "text/plain": [
              "         Order No       User Id  ... Destination Long      Rider Id\n",
              "0  Order_No_19248  User_Id_3355  ...        36.822390  Rider_Id_192\n",
              "1  Order_No_12736  User_Id_3647  ...        36.823907  Rider_Id_868\n",
              "2    Order_No_768  User_Id_2154  ...        36.851365   Rider_Id_26\n",
              "3  Order_No_15332  User_Id_2910  ...        36.790658  Rider_Id_685\n",
              "4  Order_No_21373  User_Id_1205  ...        36.792161  Rider_Id_858\n",
              "\n",
              "[5 rows x 25 columns]"
            ]
          },
          "metadata": {
            "tags": []
          },
          "execution_count": 105
        }
      ]
    },
    {
      "cell_type": "code",
      "metadata": {
        "id": "RyVKvG8BB5Nn",
        "colab_type": "code",
        "colab": {
          "base_uri": "https://localhost:8080/",
          "height": 400
        },
        "outputId": "d6ddbcb1-1a82-4222-d838-c3e64dcc84eb"
      },
      "source": [
        "train.tail()"
      ],
      "execution_count": 106,
      "outputs": [
        {
          "output_type": "execute_result",
          "data": {
            "text/html": [
              "<div>\n",
              "<style scoped>\n",
              "    .dataframe tbody tr th:only-of-type {\n",
              "        vertical-align: middle;\n",
              "    }\n",
              "\n",
              "    .dataframe tbody tr th {\n",
              "        vertical-align: top;\n",
              "    }\n",
              "\n",
              "    .dataframe thead th {\n",
              "        text-align: right;\n",
              "    }\n",
              "</style>\n",
              "<table border=\"1\" class=\"dataframe\">\n",
              "  <thead>\n",
              "    <tr style=\"text-align: right;\">\n",
              "      <th></th>\n",
              "      <th>Order No</th>\n",
              "      <th>User Id</th>\n",
              "      <th>Vehicle Type</th>\n",
              "      <th>Platform Type</th>\n",
              "      <th>Personal or Business</th>\n",
              "      <th>Placement - Day of Month</th>\n",
              "      <th>Placement - Weekday (Mo = 1)</th>\n",
              "      <th>Placement - Time</th>\n",
              "      <th>Confirmation - Day of Month</th>\n",
              "      <th>Confirmation - Weekday (Mo = 1)</th>\n",
              "      <th>Confirmation - Time</th>\n",
              "      <th>Arrival at Pickup - Day of Month</th>\n",
              "      <th>Arrival at Pickup - Weekday (Mo = 1)</th>\n",
              "      <th>Arrival at Pickup - Time</th>\n",
              "      <th>Pickup - Day of Month</th>\n",
              "      <th>Pickup - Weekday (Mo = 1)</th>\n",
              "      <th>Pickup - Time</th>\n",
              "      <th>Arrival at Destination - Day of Month</th>\n",
              "      <th>Arrival at Destination - Weekday (Mo = 1)</th>\n",
              "      <th>Arrival at Destination - Time</th>\n",
              "      <th>Distance (KM)</th>\n",
              "      <th>Temperature</th>\n",
              "      <th>Precipitation in millimeters</th>\n",
              "      <th>Pickup Lat</th>\n",
              "      <th>Pickup Long</th>\n",
              "      <th>Destination Lat</th>\n",
              "      <th>Destination Long</th>\n",
              "      <th>Rider Id</th>\n",
              "      <th>Time from Pickup to Arrival</th>\n",
              "    </tr>\n",
              "  </thead>\n",
              "  <tbody>\n",
              "    <tr>\n",
              "      <th>21196</th>\n",
              "      <td>Order_No_8834</td>\n",
              "      <td>User_Id_2001</td>\n",
              "      <td>Bike</td>\n",
              "      <td>3</td>\n",
              "      <td>Personal</td>\n",
              "      <td>20</td>\n",
              "      <td>3</td>\n",
              "      <td>3:54:38 PM</td>\n",
              "      <td>20</td>\n",
              "      <td>3</td>\n",
              "      <td>3:55:09 PM</td>\n",
              "      <td>20</td>\n",
              "      <td>3</td>\n",
              "      <td>3:58:49 PM</td>\n",
              "      <td>20</td>\n",
              "      <td>3</td>\n",
              "      <td>4:20:08 PM</td>\n",
              "      <td>20</td>\n",
              "      <td>3</td>\n",
              "      <td>4:20:17 PM</td>\n",
              "      <td>3</td>\n",
              "      <td>28.6</td>\n",
              "      <td>NaN</td>\n",
              "      <td>-1.258414</td>\n",
              "      <td>36.804800</td>\n",
              "      <td>-1.275285</td>\n",
              "      <td>36.802702</td>\n",
              "      <td>Rider_Id_953</td>\n",
              "      <td>9</td>\n",
              "    </tr>\n",
              "    <tr>\n",
              "      <th>21197</th>\n",
              "      <td>Order_No_22892</td>\n",
              "      <td>User_Id_1796</td>\n",
              "      <td>Bike</td>\n",
              "      <td>3</td>\n",
              "      <td>Business</td>\n",
              "      <td>13</td>\n",
              "      <td>6</td>\n",
              "      <td>10:13:34 AM</td>\n",
              "      <td>13</td>\n",
              "      <td>6</td>\n",
              "      <td>10:13:41 AM</td>\n",
              "      <td>13</td>\n",
              "      <td>6</td>\n",
              "      <td>10:20:04 AM</td>\n",
              "      <td>13</td>\n",
              "      <td>6</td>\n",
              "      <td>10:33:27 AM</td>\n",
              "      <td>13</td>\n",
              "      <td>6</td>\n",
              "      <td>10:46:17 AM</td>\n",
              "      <td>7</td>\n",
              "      <td>26.0</td>\n",
              "      <td>NaN</td>\n",
              "      <td>-1.307143</td>\n",
              "      <td>36.825009</td>\n",
              "      <td>-1.331619</td>\n",
              "      <td>36.847976</td>\n",
              "      <td>Rider_Id_155</td>\n",
              "      <td>770</td>\n",
              "    </tr>\n",
              "    <tr>\n",
              "      <th>21198</th>\n",
              "      <td>Order_No_2831</td>\n",
              "      <td>User_Id_2956</td>\n",
              "      <td>Bike</td>\n",
              "      <td>3</td>\n",
              "      <td>Business</td>\n",
              "      <td>7</td>\n",
              "      <td>4</td>\n",
              "      <td>5:06:16 PM</td>\n",
              "      <td>7</td>\n",
              "      <td>4</td>\n",
              "      <td>5:07:09 PM</td>\n",
              "      <td>7</td>\n",
              "      <td>4</td>\n",
              "      <td>5:30:17 PM</td>\n",
              "      <td>7</td>\n",
              "      <td>4</td>\n",
              "      <td>5:50:52 PM</td>\n",
              "      <td>7</td>\n",
              "      <td>4</td>\n",
              "      <td>6:40:05 PM</td>\n",
              "      <td>20</td>\n",
              "      <td>29.2</td>\n",
              "      <td>NaN</td>\n",
              "      <td>-1.286018</td>\n",
              "      <td>36.897534</td>\n",
              "      <td>-1.258414</td>\n",
              "      <td>36.804800</td>\n",
              "      <td>Rider_Id_697</td>\n",
              "      <td>2953</td>\n",
              "    </tr>\n",
              "    <tr>\n",
              "      <th>21199</th>\n",
              "      <td>Order_No_6174</td>\n",
              "      <td>User_Id_2524</td>\n",
              "      <td>Bike</td>\n",
              "      <td>1</td>\n",
              "      <td>Personal</td>\n",
              "      <td>4</td>\n",
              "      <td>3</td>\n",
              "      <td>9:31:39 AM</td>\n",
              "      <td>4</td>\n",
              "      <td>3</td>\n",
              "      <td>9:31:53 AM</td>\n",
              "      <td>4</td>\n",
              "      <td>3</td>\n",
              "      <td>9:38:59 AM</td>\n",
              "      <td>4</td>\n",
              "      <td>3</td>\n",
              "      <td>9:45:15 AM</td>\n",
              "      <td>4</td>\n",
              "      <td>3</td>\n",
              "      <td>10:08:15 AM</td>\n",
              "      <td>13</td>\n",
              "      <td>15.0</td>\n",
              "      <td>NaN</td>\n",
              "      <td>-1.250030</td>\n",
              "      <td>36.874167</td>\n",
              "      <td>-1.279209</td>\n",
              "      <td>36.794872</td>\n",
              "      <td>Rider_Id_347</td>\n",
              "      <td>1380</td>\n",
              "    </tr>\n",
              "    <tr>\n",
              "      <th>21200</th>\n",
              "      <td>Order_No_9836</td>\n",
              "      <td>User_Id_718</td>\n",
              "      <td>Bike</td>\n",
              "      <td>3</td>\n",
              "      <td>Business</td>\n",
              "      <td>26</td>\n",
              "      <td>2</td>\n",
              "      <td>2:19:47 PM</td>\n",
              "      <td>26</td>\n",
              "      <td>2</td>\n",
              "      <td>2:20:01 PM</td>\n",
              "      <td>26</td>\n",
              "      <td>2</td>\n",
              "      <td>2:24:29 PM</td>\n",
              "      <td>26</td>\n",
              "      <td>2</td>\n",
              "      <td>2:41:55 PM</td>\n",
              "      <td>26</td>\n",
              "      <td>2</td>\n",
              "      <td>3:17:23 PM</td>\n",
              "      <td>12</td>\n",
              "      <td>30.9</td>\n",
              "      <td>NaN</td>\n",
              "      <td>-1.255189</td>\n",
              "      <td>36.782203</td>\n",
              "      <td>-1.320157</td>\n",
              "      <td>36.830887</td>\n",
              "      <td>Rider_Id_177</td>\n",
              "      <td>2128</td>\n",
              "    </tr>\n",
              "  </tbody>\n",
              "</table>\n",
              "</div>"
            ],
            "text/plain": [
              "             Order No       User Id  ...      Rider Id  Time from Pickup to Arrival\n",
              "21196   Order_No_8834  User_Id_2001  ...  Rider_Id_953                            9\n",
              "21197  Order_No_22892  User_Id_1796  ...  Rider_Id_155                          770\n",
              "21198   Order_No_2831  User_Id_2956  ...  Rider_Id_697                         2953\n",
              "21199   Order_No_6174  User_Id_2524  ...  Rider_Id_347                         1380\n",
              "21200   Order_No_9836   User_Id_718  ...  Rider_Id_177                         2128\n",
              "\n",
              "[5 rows x 29 columns]"
            ]
          },
          "metadata": {
            "tags": []
          },
          "execution_count": 106
        }
      ]
    },
    {
      "cell_type": "code",
      "metadata": {
        "id": "UObuofPnB5Nq",
        "colab_type": "code",
        "colab": {}
      },
      "source": [
        "train['Placement - Time'] = pd.to_datetime(train['Placement - Time'],errors='coerce')\n",
        "train['Confirmation - Time'] = pd.to_datetime(train['Confirmation - Time'],errors='coerce')\n",
        "train['Arrival at Pickup - Time'] = pd.to_datetime(train['Arrival at Pickup - Time'],errors='coerce')\n",
        "train['Pickup - Time'] = pd.to_datetime(train['Pickup - Time'],errors='coerce')\n"
      ],
      "execution_count": 0,
      "outputs": []
    },
    {
      "cell_type": "code",
      "metadata": {
        "id": "nzidYcI0B5Nt",
        "colab_type": "code",
        "colab": {}
      },
      "source": [
        "train['hour'] = train['Placement - Time'].dt.hour\n",
        "train['month'] = train['Placement - Time'].dt.month\n",
        "train['day'] = train['Placement - Time'].dt.day\n",
        "train['minute'] = train['Placement - Time'].dt.minute\n",
        "train['second'] = train['Placement - Time'].dt.second\n",
        "\n",
        "train['hour1'] = train['Confirmation - Time'].dt.hour\n",
        "train['month1'] = train['Confirmation - Time'].dt.month\n",
        "train['day1'] = train['Confirmation - Time'].dt.day\n",
        "train['minute1'] = train['Confirmation - Time'].dt.minute\n",
        "train['second1'] = train['Confirmation - Time'].dt.second\n",
        "\n",
        "train['hour2'] = train['Arrival at Pickup - Time'].dt.hour\n",
        "train['month2'] = train['Arrival at Pickup - Time'].dt.month\n",
        "train['day2'] = train['Arrival at Pickup - Time'].dt.day\n",
        "train['minute2'] = train['Arrival at Pickup - Time'].dt.minute\n",
        "train['second2'] = train['Arrival at Pickup - Time'].dt.second\n",
        "\n",
        "train['hour3'] = train['Pickup - Time'].dt.hour\n",
        "train['month3'] = train['Pickup - Time'].dt.month\n",
        "train['day3'] = train['Pickup - Time'].dt.day\n",
        "train['minute3'] = train['Pickup - Time'].dt.minute\n",
        "\n",
        "train['second3'] = train['Pickup - Time'].dt.second\n",
        "\n",
        "\n",
        "\n"
      ],
      "execution_count": 0,
      "outputs": []
    },
    {
      "cell_type": "code",
      "metadata": {
        "id": "itUbm1fbB5N7",
        "colab_type": "code",
        "colab": {}
      },
      "source": [
        "train['Arrival at Destination - Time'] = pd.to_datetime(train['Placement - Time'],errors='coerce')\n"
      ],
      "execution_count": 0,
      "outputs": []
    },
    {
      "cell_type": "code",
      "metadata": {
        "id": "LtTO6tU_B5N-",
        "colab_type": "code",
        "colab": {}
      },
      "source": [
        "train['hour1'] = train['Arrival at Destination - Time'].dt.hour"
      ],
      "execution_count": 0,
      "outputs": []
    },
    {
      "cell_type": "code",
      "metadata": {
        "id": "HbW928bMB5OH",
        "colab_type": "code",
        "colab": {}
      },
      "source": [
        "test['Placement - Time'] = pd.to_datetime(test['Placement - Time'],errors='coerce')\n",
        "test['Confirmation - Time'] = pd.to_datetime(test['Confirmation - Time'],errors='coerce')\n",
        "test['Arrival at Pickup - Time'] = pd.to_datetime(test['Arrival at Pickup - Time'],errors='coerce')\n",
        "test['Pickup - Time'] = pd.to_datetime(test['Pickup - Time'],errors='coerce')\n"
      ],
      "execution_count": 0,
      "outputs": []
    },
    {
      "cell_type": "code",
      "metadata": {
        "id": "vaSXr7rVB5OL",
        "colab_type": "code",
        "colab": {}
      },
      "source": [
        "test['hour'] = test['Placement - Time'].dt.hour\n",
        "test['month'] = test['Placement - Time'].dt.month\n",
        "test['day'] = test['Placement - Time'].dt.day\n",
        "test['minute'] = test['Placement - Time'].dt.minute\n",
        "test['second'] = test['Placement - Time'].dt.second\n",
        "\n",
        "test['hour1'] = test['Confirmation - Time'].dt.hour\n",
        "test['month1'] = test['Confirmation - Time'].dt.month\n",
        "test['day1'] = test['Confirmation - Time'].dt.day\n",
        "test['minute1'] = test['Confirmation - Time'].dt.minute\n",
        "test['second1'] = test['Confirmation - Time'].dt.second\n",
        "\n",
        "test['hour2'] = test['Arrival at Pickup - Time'].dt.hour\n",
        "test['month2'] = test['Arrival at Pickup - Time'].dt.month\n",
        "test['day2'] = test['Arrival at Pickup - Time'].dt.day\n",
        "test['minute2'] = test['Arrival at Pickup - Time'].dt.minute\n",
        "test['second2'] = test['Arrival at Pickup - Time'].dt.second\n",
        "\n",
        "test['hour3'] = test['Pickup - Time'].dt.hour\n",
        "test['month3'] = test['Pickup - Time'].dt.month\n",
        "test['day3'] = test['Pickup - Time'].dt.day\n",
        "test['minute3'] = test['Pickup - Time'].dt.minute\n",
        "\n",
        "test['second3'] = test['Pickup - Time'].dt.second\n",
        "\n",
        "\n",
        "\n",
        "\n"
      ],
      "execution_count": 0,
      "outputs": []
    },
    {
      "cell_type": "code",
      "metadata": {
        "id": "larTQNhpB5OY",
        "colab_type": "code",
        "colab": {
          "base_uri": "https://localhost:8080/",
          "height": 195
        },
        "outputId": "727c2a4d-a701-4252-cf79-637f9cd522fb"
      },
      "source": [
        "riders.head()"
      ],
      "execution_count": 113,
      "outputs": [
        {
          "output_type": "execute_result",
          "data": {
            "text/html": [
              "<div>\n",
              "<style scoped>\n",
              "    .dataframe tbody tr th:only-of-type {\n",
              "        vertical-align: middle;\n",
              "    }\n",
              "\n",
              "    .dataframe tbody tr th {\n",
              "        vertical-align: top;\n",
              "    }\n",
              "\n",
              "    .dataframe thead th {\n",
              "        text-align: right;\n",
              "    }\n",
              "</style>\n",
              "<table border=\"1\" class=\"dataframe\">\n",
              "  <thead>\n",
              "    <tr style=\"text-align: right;\">\n",
              "      <th></th>\n",
              "      <th>Rider Id</th>\n",
              "      <th>No_Of_Orders</th>\n",
              "      <th>Age</th>\n",
              "      <th>Average_Rating</th>\n",
              "      <th>No_of_Ratings</th>\n",
              "    </tr>\n",
              "  </thead>\n",
              "  <tbody>\n",
              "    <tr>\n",
              "      <th>0</th>\n",
              "      <td>Rider_Id_396</td>\n",
              "      <td>2946</td>\n",
              "      <td>2298</td>\n",
              "      <td>14.0</td>\n",
              "      <td>1159</td>\n",
              "    </tr>\n",
              "    <tr>\n",
              "      <th>1</th>\n",
              "      <td>Rider_Id_479</td>\n",
              "      <td>360</td>\n",
              "      <td>951</td>\n",
              "      <td>13.5</td>\n",
              "      <td>176</td>\n",
              "    </tr>\n",
              "    <tr>\n",
              "      <th>2</th>\n",
              "      <td>Rider_Id_648</td>\n",
              "      <td>1746</td>\n",
              "      <td>821</td>\n",
              "      <td>14.3</td>\n",
              "      <td>466</td>\n",
              "    </tr>\n",
              "    <tr>\n",
              "      <th>3</th>\n",
              "      <td>Rider_Id_753</td>\n",
              "      <td>314</td>\n",
              "      <td>980</td>\n",
              "      <td>12.5</td>\n",
              "      <td>75</td>\n",
              "    </tr>\n",
              "    <tr>\n",
              "      <th>4</th>\n",
              "      <td>Rider_Id_335</td>\n",
              "      <td>536</td>\n",
              "      <td>1113</td>\n",
              "      <td>13.7</td>\n",
              "      <td>156</td>\n",
              "    </tr>\n",
              "  </tbody>\n",
              "</table>\n",
              "</div>"
            ],
            "text/plain": [
              "       Rider Id  No_Of_Orders   Age  Average_Rating  No_of_Ratings\n",
              "0  Rider_Id_396          2946  2298            14.0           1159\n",
              "1  Rider_Id_479           360   951            13.5            176\n",
              "2  Rider_Id_648          1746   821            14.3            466\n",
              "3  Rider_Id_753           314   980            12.5             75\n",
              "4  Rider_Id_335           536  1113            13.7            156"
            ]
          },
          "metadata": {
            "tags": []
          },
          "execution_count": 113
        }
      ]
    },
    {
      "cell_type": "code",
      "metadata": {
        "id": "ogWExv5KB5Ob",
        "colab_type": "code",
        "colab": {}
      },
      "source": [
        "train=train.join(riders.set_index('Rider Id'), on='Rider Id')"
      ],
      "execution_count": 0,
      "outputs": []
    },
    {
      "cell_type": "code",
      "metadata": {
        "id": "Wj-xzTMgB5Of",
        "colab_type": "code",
        "colab": {}
      },
      "source": [
        "test=test.join(riders.set_index('Rider Id'), on='Rider Id')"
      ],
      "execution_count": 0,
      "outputs": []
    },
    {
      "cell_type": "code",
      "metadata": {
        "id": "-orZIyQNB5Oj",
        "colab_type": "code",
        "colab": {}
      },
      "source": [
        "train['other']=train['hour']*3600+train['minute']*60+train['second']\n",
        "train['other1']=train['hour1']*3600+train['minute1']*60+train['second1']\n",
        "train['other2']=train['hour2']*3600+train['minute2']*60+train['second2']\n",
        "train['other3']=train['hour3']*3600+train['minute3']*60+train['second3']\n",
        "train['pourc']=train['No_of_Ratings']*100/train['No_of_Ratings']"
      ],
      "execution_count": 0,
      "outputs": []
    },
    {
      "cell_type": "code",
      "metadata": {
        "id": "WqslZ7fxB5Ol",
        "colab_type": "code",
        "colab": {}
      },
      "source": [
        "test['other']=test['hour']*3600+test['minute']*60+test['second']\n",
        "test['other1']=test['hour1']*3600+test['minute1']*60+test['second1']\n",
        "test['other2']=test['hour2']*3600+test['minute2']*60+test['second2']\n",
        "test['other3']=test['hour3']*3600+test['minute3']*60+test['second3']\n",
        "test['pourc']=test['No_of_Ratings']*100/test['No_of_Ratings']"
      ],
      "execution_count": 0,
      "outputs": []
    },
    {
      "cell_type": "code",
      "metadata": {
        "id": "7rbQHSyyB5On",
        "colab_type": "code",
        "colab": {}
      },
      "source": [
        "train['h1']=train['Confirmation - Day of Month']*train['Confirmation - Weekday (Mo = 1)']\n",
        "train['h1']=train['Pickup - Day of Month']*train['Pickup - Weekday (Mo = 1)']\n",
        "test['h1']=test['Confirmation - Day of Month']*test['Confirmation - Weekday (Mo = 1)']\n",
        "test['h1']=test['Pickup - Day of Month']*test['Pickup - Weekday (Mo = 1)']"
      ],
      "execution_count": 0,
      "outputs": []
    },
    {
      "cell_type": "code",
      "metadata": {
        "id": "jTQZscf0B5Ou",
        "colab_type": "code",
        "colab": {
          "base_uri": "https://localhost:8080/",
          "height": 34
        },
        "outputId": "7163a4db-d92f-43c9-fad4-34ec79506b74"
      },
      "source": [
        "train['Precipitation in millimeters'].sum()"
      ],
      "execution_count": 119,
      "outputs": [
        {
          "output_type": "execute_result",
          "data": {
            "text/plain": [
              "4364.0"
            ]
          },
          "metadata": {
            "tags": []
          },
          "execution_count": 119
        }
      ]
    },
    {
      "cell_type": "code",
      "metadata": {
        "id": "GflB-q1WB5O1",
        "colab_type": "code",
        "colab": {
          "base_uri": "https://localhost:8080/",
          "height": 34
        },
        "outputId": "9045de2e-17f5-4402-efc5-9f50c1b200c8"
      },
      "source": [
        "4364/551"
      ],
      "execution_count": 120,
      "outputs": [
        {
          "output_type": "execute_result",
          "data": {
            "text/plain": [
              "7.9201451905626135"
            ]
          },
          "metadata": {
            "tags": []
          },
          "execution_count": 120
        }
      ]
    },
    {
      "cell_type": "code",
      "metadata": {
        "id": "Yw1vQxKLB5O6",
        "colab_type": "code",
        "colab": {}
      },
      "source": [
        "test['Precipitation in millimeters'].isnull().sum()\n",
        "avg=7.92"
      ],
      "execution_count": 0,
      "outputs": []
    },
    {
      "cell_type": "code",
      "metadata": {
        "id": "BsamklBVB5O_",
        "colab_type": "code",
        "colab": {}
      },
      "source": [
        "train['Precipitation in millimeters'].fillna(avg, inplace=True)"
      ],
      "execution_count": 0,
      "outputs": []
    },
    {
      "cell_type": "code",
      "metadata": {
        "id": "rVTjmf6rB5PC",
        "colab_type": "code",
        "colab": {}
      },
      "source": [
        "test['Precipitation in millimeters'].fillna(avg, inplace=True)"
      ],
      "execution_count": 0,
      "outputs": []
    },
    {
      "cell_type": "code",
      "metadata": {
        "id": "Oxr4Uw75B5PE",
        "colab_type": "code",
        "colab": {}
      },
      "source": [
        "train.drop('Precipitation in millimeters',axis=1,inplace=True)"
      ],
      "execution_count": 0,
      "outputs": []
    },
    {
      "cell_type": "code",
      "metadata": {
        "id": "Ikk4ZrKgB5PH",
        "colab_type": "code",
        "colab": {
          "base_uri": "https://localhost:8080/",
          "height": 218
        },
        "outputId": "c4d01009-e0ee-491f-f163-6b4bc7acf901"
      },
      "source": [
        "train['Temperature'].fillna(method='ffill')"
      ],
      "execution_count": 125,
      "outputs": [
        {
          "output_type": "execute_result",
          "data": {
            "text/plain": [
              "0        20.4\n",
              "1        26.4\n",
              "2        26.4\n",
              "3        19.2\n",
              "4        15.4\n",
              "         ... \n",
              "21196    28.6\n",
              "21197    26.0\n",
              "21198    29.2\n",
              "21199    15.0\n",
              "21200    30.9\n",
              "Name: Temperature, Length: 21201, dtype: float64"
            ]
          },
          "metadata": {
            "tags": []
          },
          "execution_count": 125
        }
      ]
    },
    {
      "cell_type": "code",
      "metadata": {
        "id": "uRbJryoBB5PL",
        "colab_type": "code",
        "colab": {}
      },
      "source": [
        "train.dropna(subset=['Temperature'],inplace=True)"
      ],
      "execution_count": 0,
      "outputs": []
    },
    {
      "cell_type": "code",
      "metadata": {
        "id": "FQNshfLyB5PN",
        "colab_type": "code",
        "colab": {
          "base_uri": "https://localhost:8080/",
          "height": 218
        },
        "outputId": "c023e6b9-14f9-4439-a7fb-6381ada3387a"
      },
      "source": [
        "train['Temperature']"
      ],
      "execution_count": 127,
      "outputs": [
        {
          "output_type": "execute_result",
          "data": {
            "text/plain": [
              "0        20.4\n",
              "1        26.4\n",
              "3        19.2\n",
              "4        15.4\n",
              "5        27.2\n",
              "         ... \n",
              "21196    28.6\n",
              "21197    26.0\n",
              "21198    29.2\n",
              "21199    15.0\n",
              "21200    30.9\n",
              "Name: Temperature, Length: 16835, dtype: float64"
            ]
          },
          "metadata": {
            "tags": []
          },
          "execution_count": 127
        }
      ]
    },
    {
      "cell_type": "code",
      "metadata": {
        "id": "58UYyuK6B5PQ",
        "colab_type": "code",
        "colab": {
          "base_uri": "https://localhost:8080/",
          "height": 1000
        },
        "outputId": "7c461952-bb16-4eb2-8e50-da9288913469"
      },
      "source": [
        "train.isnull().sum()"
      ],
      "execution_count": 128,
      "outputs": [
        {
          "output_type": "execute_result",
          "data": {
            "text/plain": [
              "Order No                                      0\n",
              "User Id                                       0\n",
              "Vehicle Type                                  0\n",
              "Platform Type                                 0\n",
              "Personal or Business                          0\n",
              "Placement - Day of Month                      0\n",
              "Placement - Weekday (Mo = 1)                  0\n",
              "Placement - Time                              0\n",
              "Confirmation - Day of Month                   0\n",
              "Confirmation - Weekday (Mo = 1)               0\n",
              "Confirmation - Time                           0\n",
              "Arrival at Pickup - Day of Month              0\n",
              "Arrival at Pickup - Weekday (Mo = 1)          0\n",
              "Arrival at Pickup - Time                      0\n",
              "Pickup - Day of Month                         0\n",
              "Pickup - Weekday (Mo = 1)                     0\n",
              "Pickup - Time                                 0\n",
              "Arrival at Destination - Day of Month         0\n",
              "Arrival at Destination - Weekday (Mo = 1)     0\n",
              "Arrival at Destination - Time                 0\n",
              "Distance (KM)                                 0\n",
              "Temperature                                   0\n",
              "Pickup Lat                                    0\n",
              "Pickup Long                                   0\n",
              "Destination Lat                               0\n",
              "Destination Long                              0\n",
              "Rider Id                                      0\n",
              "Time from Pickup to Arrival                   0\n",
              "hour                                          0\n",
              "month                                         0\n",
              "day                                           0\n",
              "minute                                        0\n",
              "second                                        0\n",
              "hour1                                         0\n",
              "month1                                        0\n",
              "day1                                          0\n",
              "minute1                                       0\n",
              "second1                                       0\n",
              "hour2                                         0\n",
              "month2                                        0\n",
              "day2                                          0\n",
              "minute2                                       0\n",
              "second2                                       0\n",
              "hour3                                         0\n",
              "month3                                        0\n",
              "day3                                          0\n",
              "minute3                                       0\n",
              "second3                                       0\n",
              "No_Of_Orders                                  0\n",
              "Age                                           0\n",
              "Average_Rating                                0\n",
              "No_of_Ratings                                 0\n",
              "other                                         0\n",
              "other1                                        0\n",
              "other2                                        0\n",
              "other3                                        0\n",
              "pourc                                        25\n",
              "h1                                            0\n",
              "dtype: int64"
            ]
          },
          "metadata": {
            "tags": []
          },
          "execution_count": 128
        }
      ]
    },
    {
      "cell_type": "code",
      "metadata": {
        "id": "JiNNK4_oB5PT",
        "colab_type": "code",
        "colab": {
          "base_uri": "https://localhost:8080/",
          "height": 195
        },
        "outputId": "e94f326e-a831-41cb-c5e8-2ae3f69df18c"
      },
      "source": [
        "riders.head()"
      ],
      "execution_count": 129,
      "outputs": [
        {
          "output_type": "execute_result",
          "data": {
            "text/html": [
              "<div>\n",
              "<style scoped>\n",
              "    .dataframe tbody tr th:only-of-type {\n",
              "        vertical-align: middle;\n",
              "    }\n",
              "\n",
              "    .dataframe tbody tr th {\n",
              "        vertical-align: top;\n",
              "    }\n",
              "\n",
              "    .dataframe thead th {\n",
              "        text-align: right;\n",
              "    }\n",
              "</style>\n",
              "<table border=\"1\" class=\"dataframe\">\n",
              "  <thead>\n",
              "    <tr style=\"text-align: right;\">\n",
              "      <th></th>\n",
              "      <th>Rider Id</th>\n",
              "      <th>No_Of_Orders</th>\n",
              "      <th>Age</th>\n",
              "      <th>Average_Rating</th>\n",
              "      <th>No_of_Ratings</th>\n",
              "    </tr>\n",
              "  </thead>\n",
              "  <tbody>\n",
              "    <tr>\n",
              "      <th>0</th>\n",
              "      <td>Rider_Id_396</td>\n",
              "      <td>2946</td>\n",
              "      <td>2298</td>\n",
              "      <td>14.0</td>\n",
              "      <td>1159</td>\n",
              "    </tr>\n",
              "    <tr>\n",
              "      <th>1</th>\n",
              "      <td>Rider_Id_479</td>\n",
              "      <td>360</td>\n",
              "      <td>951</td>\n",
              "      <td>13.5</td>\n",
              "      <td>176</td>\n",
              "    </tr>\n",
              "    <tr>\n",
              "      <th>2</th>\n",
              "      <td>Rider_Id_648</td>\n",
              "      <td>1746</td>\n",
              "      <td>821</td>\n",
              "      <td>14.3</td>\n",
              "      <td>466</td>\n",
              "    </tr>\n",
              "    <tr>\n",
              "      <th>3</th>\n",
              "      <td>Rider_Id_753</td>\n",
              "      <td>314</td>\n",
              "      <td>980</td>\n",
              "      <td>12.5</td>\n",
              "      <td>75</td>\n",
              "    </tr>\n",
              "    <tr>\n",
              "      <th>4</th>\n",
              "      <td>Rider_Id_335</td>\n",
              "      <td>536</td>\n",
              "      <td>1113</td>\n",
              "      <td>13.7</td>\n",
              "      <td>156</td>\n",
              "    </tr>\n",
              "  </tbody>\n",
              "</table>\n",
              "</div>"
            ],
            "text/plain": [
              "       Rider Id  No_Of_Orders   Age  Average_Rating  No_of_Ratings\n",
              "0  Rider_Id_396          2946  2298            14.0           1159\n",
              "1  Rider_Id_479           360   951            13.5            176\n",
              "2  Rider_Id_648          1746   821            14.3            466\n",
              "3  Rider_Id_753           314   980            12.5             75\n",
              "4  Rider_Id_335           536  1113            13.7            156"
            ]
          },
          "metadata": {
            "tags": []
          },
          "execution_count": 129
        }
      ]
    },
    {
      "cell_type": "code",
      "metadata": {
        "id": "JYKPlhoiB5PW",
        "colab_type": "code",
        "colab": {
          "base_uri": "https://localhost:8080/",
          "height": 195
        },
        "outputId": "c4a8cc14-9d87-4504-89b8-4fadcbe1f881"
      },
      "source": [
        "vd.head()"
      ],
      "execution_count": 130,
      "outputs": [
        {
          "output_type": "execute_result",
          "data": {
            "text/html": [
              "<div>\n",
              "<style scoped>\n",
              "    .dataframe tbody tr th:only-of-type {\n",
              "        vertical-align: middle;\n",
              "    }\n",
              "\n",
              "    .dataframe tbody tr th {\n",
              "        vertical-align: top;\n",
              "    }\n",
              "\n",
              "    .dataframe thead th {\n",
              "        text-align: right;\n",
              "    }\n",
              "</style>\n",
              "<table border=\"1\" class=\"dataframe\">\n",
              "  <thead>\n",
              "    <tr style=\"text-align: right;\">\n",
              "      <th></th>\n",
              "      <th>Order No</th>\n",
              "      <th>Unique number identifying the order</th>\n",
              "    </tr>\n",
              "  </thead>\n",
              "  <tbody>\n",
              "    <tr>\n",
              "      <th>0</th>\n",
              "      <td>User Id</td>\n",
              "      <td>Unique number identifying the customer on a pl...</td>\n",
              "    </tr>\n",
              "    <tr>\n",
              "      <th>1</th>\n",
              "      <td>Vehicle Type</td>\n",
              "      <td>For this competition limited to bikes, however...</td>\n",
              "    </tr>\n",
              "    <tr>\n",
              "      <th>2</th>\n",
              "      <td>Platform Type</td>\n",
              "      <td>Platform used to place the order, there are 4 ...</td>\n",
              "    </tr>\n",
              "    <tr>\n",
              "      <th>3</th>\n",
              "      <td>Personal or Business</td>\n",
              "      <td>Customer type</td>\n",
              "    </tr>\n",
              "    <tr>\n",
              "      <th>4</th>\n",
              "      <td>Placement - Day of Month</td>\n",
              "      <td>Placement - Day of Month i.e 1-31</td>\n",
              "    </tr>\n",
              "  </tbody>\n",
              "</table>\n",
              "</div>"
            ],
            "text/plain": [
              "                   Order No                Unique number identifying the order\n",
              "0                   User Id  Unique number identifying the customer on a pl...\n",
              "1              Vehicle Type  For this competition limited to bikes, however...\n",
              "2             Platform Type  Platform used to place the order, there are 4 ...\n",
              "3      Personal or Business                                      Customer type\n",
              "4  Placement - Day of Month                  Placement - Day of Month i.e 1-31"
            ]
          },
          "metadata": {
            "tags": []
          },
          "execution_count": 130
        }
      ]
    },
    {
      "cell_type": "code",
      "metadata": {
        "id": "A2-qau5eB5Pb",
        "colab_type": "code",
        "colab": {}
      },
      "source": [
        "#data = train.drop(columns=[''], axis=1)\n",
        "target = train['Time from Pickup to Arrival']\n"
      ],
      "execution_count": 0,
      "outputs": []
    },
    {
      "cell_type": "code",
      "metadata": {
        "id": "1GrpQaTsB5Pe",
        "colab_type": "code",
        "colab": {
          "base_uri": "https://localhost:8080/",
          "height": 484
        },
        "outputId": "3f1b0ff4-efd9-4d77-f67b-1f885fcf209e"
      },
      "source": [
        "train.head()\n",
        "#train['Vehicle Type'].fillna(1)"
      ],
      "execution_count": 132,
      "outputs": [
        {
          "output_type": "execute_result",
          "data": {
            "text/html": [
              "<div>\n",
              "<style scoped>\n",
              "    .dataframe tbody tr th:only-of-type {\n",
              "        vertical-align: middle;\n",
              "    }\n",
              "\n",
              "    .dataframe tbody tr th {\n",
              "        vertical-align: top;\n",
              "    }\n",
              "\n",
              "    .dataframe thead th {\n",
              "        text-align: right;\n",
              "    }\n",
              "</style>\n",
              "<table border=\"1\" class=\"dataframe\">\n",
              "  <thead>\n",
              "    <tr style=\"text-align: right;\">\n",
              "      <th></th>\n",
              "      <th>Order No</th>\n",
              "      <th>User Id</th>\n",
              "      <th>Vehicle Type</th>\n",
              "      <th>Platform Type</th>\n",
              "      <th>Personal or Business</th>\n",
              "      <th>Placement - Day of Month</th>\n",
              "      <th>Placement - Weekday (Mo = 1)</th>\n",
              "      <th>Placement - Time</th>\n",
              "      <th>Confirmation - Day of Month</th>\n",
              "      <th>Confirmation - Weekday (Mo = 1)</th>\n",
              "      <th>Confirmation - Time</th>\n",
              "      <th>Arrival at Pickup - Day of Month</th>\n",
              "      <th>Arrival at Pickup - Weekday (Mo = 1)</th>\n",
              "      <th>Arrival at Pickup - Time</th>\n",
              "      <th>Pickup - Day of Month</th>\n",
              "      <th>Pickup - Weekday (Mo = 1)</th>\n",
              "      <th>Pickup - Time</th>\n",
              "      <th>Arrival at Destination - Day of Month</th>\n",
              "      <th>Arrival at Destination - Weekday (Mo = 1)</th>\n",
              "      <th>Arrival at Destination - Time</th>\n",
              "      <th>Distance (KM)</th>\n",
              "      <th>Temperature</th>\n",
              "      <th>Pickup Lat</th>\n",
              "      <th>Pickup Long</th>\n",
              "      <th>Destination Lat</th>\n",
              "      <th>Destination Long</th>\n",
              "      <th>Rider Id</th>\n",
              "      <th>Time from Pickup to Arrival</th>\n",
              "      <th>hour</th>\n",
              "      <th>month</th>\n",
              "      <th>day</th>\n",
              "      <th>minute</th>\n",
              "      <th>second</th>\n",
              "      <th>hour1</th>\n",
              "      <th>month1</th>\n",
              "      <th>day1</th>\n",
              "      <th>minute1</th>\n",
              "      <th>second1</th>\n",
              "      <th>hour2</th>\n",
              "      <th>month2</th>\n",
              "      <th>day2</th>\n",
              "      <th>minute2</th>\n",
              "      <th>second2</th>\n",
              "      <th>hour3</th>\n",
              "      <th>month3</th>\n",
              "      <th>day3</th>\n",
              "      <th>minute3</th>\n",
              "      <th>second3</th>\n",
              "      <th>No_Of_Orders</th>\n",
              "      <th>Age</th>\n",
              "      <th>Average_Rating</th>\n",
              "      <th>No_of_Ratings</th>\n",
              "      <th>other</th>\n",
              "      <th>other1</th>\n",
              "      <th>other2</th>\n",
              "      <th>other3</th>\n",
              "      <th>pourc</th>\n",
              "      <th>h1</th>\n",
              "    </tr>\n",
              "  </thead>\n",
              "  <tbody>\n",
              "    <tr>\n",
              "      <th>0</th>\n",
              "      <td>Order_No_4211</td>\n",
              "      <td>User_Id_633</td>\n",
              "      <td>Bike</td>\n",
              "      <td>3</td>\n",
              "      <td>Business</td>\n",
              "      <td>9</td>\n",
              "      <td>5</td>\n",
              "      <td>2020-06-02 09:35:46</td>\n",
              "      <td>9</td>\n",
              "      <td>5</td>\n",
              "      <td>2020-06-02 09:40:10</td>\n",
              "      <td>9</td>\n",
              "      <td>5</td>\n",
              "      <td>2020-06-02 10:04:47</td>\n",
              "      <td>9</td>\n",
              "      <td>5</td>\n",
              "      <td>2020-06-02 10:27:30</td>\n",
              "      <td>9</td>\n",
              "      <td>5</td>\n",
              "      <td>2020-06-02 09:35:46</td>\n",
              "      <td>4</td>\n",
              "      <td>20.4</td>\n",
              "      <td>-1.317755</td>\n",
              "      <td>36.830370</td>\n",
              "      <td>-1.300406</td>\n",
              "      <td>36.829741</td>\n",
              "      <td>Rider_Id_432</td>\n",
              "      <td>745</td>\n",
              "      <td>9</td>\n",
              "      <td>6</td>\n",
              "      <td>2</td>\n",
              "      <td>35</td>\n",
              "      <td>46</td>\n",
              "      <td>9</td>\n",
              "      <td>6</td>\n",
              "      <td>2</td>\n",
              "      <td>40</td>\n",
              "      <td>10</td>\n",
              "      <td>10</td>\n",
              "      <td>6</td>\n",
              "      <td>2</td>\n",
              "      <td>4</td>\n",
              "      <td>47</td>\n",
              "      <td>10</td>\n",
              "      <td>6</td>\n",
              "      <td>2</td>\n",
              "      <td>27</td>\n",
              "      <td>30</td>\n",
              "      <td>1637</td>\n",
              "      <td>1309</td>\n",
              "      <td>13.8</td>\n",
              "      <td>549</td>\n",
              "      <td>34546</td>\n",
              "      <td>34810</td>\n",
              "      <td>36287</td>\n",
              "      <td>37650</td>\n",
              "      <td>100.0</td>\n",
              "      <td>45</td>\n",
              "    </tr>\n",
              "    <tr>\n",
              "      <th>1</th>\n",
              "      <td>Order_No_25375</td>\n",
              "      <td>User_Id_2285</td>\n",
              "      <td>Bike</td>\n",
              "      <td>3</td>\n",
              "      <td>Personal</td>\n",
              "      <td>12</td>\n",
              "      <td>5</td>\n",
              "      <td>2020-06-02 11:16:16</td>\n",
              "      <td>12</td>\n",
              "      <td>5</td>\n",
              "      <td>2020-06-02 11:23:21</td>\n",
              "      <td>12</td>\n",
              "      <td>5</td>\n",
              "      <td>2020-06-02 11:40:22</td>\n",
              "      <td>12</td>\n",
              "      <td>5</td>\n",
              "      <td>2020-06-02 11:44:09</td>\n",
              "      <td>12</td>\n",
              "      <td>5</td>\n",
              "      <td>2020-06-02 11:16:16</td>\n",
              "      <td>16</td>\n",
              "      <td>26.4</td>\n",
              "      <td>-1.351453</td>\n",
              "      <td>36.899315</td>\n",
              "      <td>-1.295004</td>\n",
              "      <td>36.814358</td>\n",
              "      <td>Rider_Id_856</td>\n",
              "      <td>1993</td>\n",
              "      <td>11</td>\n",
              "      <td>6</td>\n",
              "      <td>2</td>\n",
              "      <td>16</td>\n",
              "      <td>16</td>\n",
              "      <td>11</td>\n",
              "      <td>6</td>\n",
              "      <td>2</td>\n",
              "      <td>23</td>\n",
              "      <td>21</td>\n",
              "      <td>11</td>\n",
              "      <td>6</td>\n",
              "      <td>2</td>\n",
              "      <td>40</td>\n",
              "      <td>22</td>\n",
              "      <td>11</td>\n",
              "      <td>6</td>\n",
              "      <td>2</td>\n",
              "      <td>44</td>\n",
              "      <td>9</td>\n",
              "      <td>396</td>\n",
              "      <td>339</td>\n",
              "      <td>13.6</td>\n",
              "      <td>69</td>\n",
              "      <td>40576</td>\n",
              "      <td>41001</td>\n",
              "      <td>42022</td>\n",
              "      <td>42249</td>\n",
              "      <td>100.0</td>\n",
              "      <td>60</td>\n",
              "    </tr>\n",
              "    <tr>\n",
              "      <th>3</th>\n",
              "      <td>Order_No_9336</td>\n",
              "      <td>User_Id_1402</td>\n",
              "      <td>Bike</td>\n",
              "      <td>3</td>\n",
              "      <td>Business</td>\n",
              "      <td>15</td>\n",
              "      <td>5</td>\n",
              "      <td>2020-06-02 09:25:34</td>\n",
              "      <td>15</td>\n",
              "      <td>5</td>\n",
              "      <td>2020-06-02 09:26:05</td>\n",
              "      <td>15</td>\n",
              "      <td>5</td>\n",
              "      <td>2020-06-02 09:37:56</td>\n",
              "      <td>15</td>\n",
              "      <td>5</td>\n",
              "      <td>2020-06-02 09:43:06</td>\n",
              "      <td>15</td>\n",
              "      <td>5</td>\n",
              "      <td>2020-06-02 09:25:34</td>\n",
              "      <td>9</td>\n",
              "      <td>19.2</td>\n",
              "      <td>-1.281301</td>\n",
              "      <td>36.832396</td>\n",
              "      <td>-1.257147</td>\n",
              "      <td>36.795063</td>\n",
              "      <td>Rider_Id_855</td>\n",
              "      <td>1341</td>\n",
              "      <td>9</td>\n",
              "      <td>6</td>\n",
              "      <td>2</td>\n",
              "      <td>25</td>\n",
              "      <td>34</td>\n",
              "      <td>9</td>\n",
              "      <td>6</td>\n",
              "      <td>2</td>\n",
              "      <td>26</td>\n",
              "      <td>5</td>\n",
              "      <td>9</td>\n",
              "      <td>6</td>\n",
              "      <td>2</td>\n",
              "      <td>37</td>\n",
              "      <td>56</td>\n",
              "      <td>9</td>\n",
              "      <td>6</td>\n",
              "      <td>2</td>\n",
              "      <td>43</td>\n",
              "      <td>6</td>\n",
              "      <td>886</td>\n",
              "      <td>283</td>\n",
              "      <td>14.5</td>\n",
              "      <td>113</td>\n",
              "      <td>33934</td>\n",
              "      <td>33965</td>\n",
              "      <td>34676</td>\n",
              "      <td>34986</td>\n",
              "      <td>100.0</td>\n",
              "      <td>75</td>\n",
              "    </tr>\n",
              "    <tr>\n",
              "      <th>4</th>\n",
              "      <td>Order_No_27883</td>\n",
              "      <td>User_Id_1737</td>\n",
              "      <td>Bike</td>\n",
              "      <td>1</td>\n",
              "      <td>Personal</td>\n",
              "      <td>13</td>\n",
              "      <td>1</td>\n",
              "      <td>2020-06-02 09:55:18</td>\n",
              "      <td>13</td>\n",
              "      <td>1</td>\n",
              "      <td>2020-06-02 09:56:18</td>\n",
              "      <td>13</td>\n",
              "      <td>1</td>\n",
              "      <td>2020-06-02 10:03:53</td>\n",
              "      <td>13</td>\n",
              "      <td>1</td>\n",
              "      <td>2020-06-02 10:05:23</td>\n",
              "      <td>13</td>\n",
              "      <td>1</td>\n",
              "      <td>2020-06-02 09:55:18</td>\n",
              "      <td>9</td>\n",
              "      <td>15.4</td>\n",
              "      <td>-1.266597</td>\n",
              "      <td>36.792118</td>\n",
              "      <td>-1.295041</td>\n",
              "      <td>36.809817</td>\n",
              "      <td>Rider_Id_770</td>\n",
              "      <td>1214</td>\n",
              "      <td>9</td>\n",
              "      <td>6</td>\n",
              "      <td>2</td>\n",
              "      <td>55</td>\n",
              "      <td>18</td>\n",
              "      <td>9</td>\n",
              "      <td>6</td>\n",
              "      <td>2</td>\n",
              "      <td>56</td>\n",
              "      <td>18</td>\n",
              "      <td>10</td>\n",
              "      <td>6</td>\n",
              "      <td>2</td>\n",
              "      <td>3</td>\n",
              "      <td>53</td>\n",
              "      <td>10</td>\n",
              "      <td>6</td>\n",
              "      <td>2</td>\n",
              "      <td>5</td>\n",
              "      <td>23</td>\n",
              "      <td>2311</td>\n",
              "      <td>872</td>\n",
              "      <td>14.1</td>\n",
              "      <td>533</td>\n",
              "      <td>35718</td>\n",
              "      <td>35778</td>\n",
              "      <td>36233</td>\n",
              "      <td>36323</td>\n",
              "      <td>100.0</td>\n",
              "      <td>13</td>\n",
              "    </tr>\n",
              "    <tr>\n",
              "      <th>5</th>\n",
              "      <td>Order_No_7408</td>\n",
              "      <td>User_Id_1342</td>\n",
              "      <td>Bike</td>\n",
              "      <td>3</td>\n",
              "      <td>Business</td>\n",
              "      <td>14</td>\n",
              "      <td>5</td>\n",
              "      <td>2020-06-02 15:07:35</td>\n",
              "      <td>14</td>\n",
              "      <td>5</td>\n",
              "      <td>2020-06-02 15:08:57</td>\n",
              "      <td>14</td>\n",
              "      <td>5</td>\n",
              "      <td>2020-06-02 15:21:36</td>\n",
              "      <td>14</td>\n",
              "      <td>5</td>\n",
              "      <td>2020-06-02 15:30:30</td>\n",
              "      <td>14</td>\n",
              "      <td>5</td>\n",
              "      <td>2020-06-02 15:07:35</td>\n",
              "      <td>9</td>\n",
              "      <td>27.2</td>\n",
              "      <td>-1.302583</td>\n",
              "      <td>36.767081</td>\n",
              "      <td>-1.257309</td>\n",
              "      <td>36.806008</td>\n",
              "      <td>Rider_Id_124</td>\n",
              "      <td>3191</td>\n",
              "      <td>15</td>\n",
              "      <td>6</td>\n",
              "      <td>2</td>\n",
              "      <td>7</td>\n",
              "      <td>35</td>\n",
              "      <td>15</td>\n",
              "      <td>6</td>\n",
              "      <td>2</td>\n",
              "      <td>8</td>\n",
              "      <td>57</td>\n",
              "      <td>15</td>\n",
              "      <td>6</td>\n",
              "      <td>2</td>\n",
              "      <td>21</td>\n",
              "      <td>36</td>\n",
              "      <td>15</td>\n",
              "      <td>6</td>\n",
              "      <td>2</td>\n",
              "      <td>30</td>\n",
              "      <td>30</td>\n",
              "      <td>3288</td>\n",
              "      <td>1204</td>\n",
              "      <td>14.2</td>\n",
              "      <td>1056</td>\n",
              "      <td>54455</td>\n",
              "      <td>54537</td>\n",
              "      <td>55296</td>\n",
              "      <td>55830</td>\n",
              "      <td>100.0</td>\n",
              "      <td>70</td>\n",
              "    </tr>\n",
              "  </tbody>\n",
              "</table>\n",
              "</div>"
            ],
            "text/plain": [
              "         Order No       User Id Vehicle Type  ...  other3  pourc  h1\n",
              "0   Order_No_4211   User_Id_633         Bike  ...   37650  100.0  45\n",
              "1  Order_No_25375  User_Id_2285         Bike  ...   42249  100.0  60\n",
              "3   Order_No_9336  User_Id_1402         Bike  ...   34986  100.0  75\n",
              "4  Order_No_27883  User_Id_1737         Bike  ...   36323  100.0  13\n",
              "5   Order_No_7408  User_Id_1342         Bike  ...   55830  100.0  70\n",
              "\n",
              "[5 rows x 58 columns]"
            ]
          },
          "metadata": {
            "tags": []
          },
          "execution_count": 132
        }
      ]
    },
    {
      "cell_type": "code",
      "metadata": {
        "id": "mzZyAPGFB5Ph",
        "colab_type": "code",
        "colab": {}
      },
      "source": [
        "train.drop(columns=['Time from Pickup to Arrival','Order No','User Id','Placement - Time','Confirmation - Time','Arrival at Pickup - Time','Pickup - Time','Arrival at Destination - Time','Rider Id'], axis=1,inplace=True)\n"
      ],
      "execution_count": 0,
      "outputs": []
    },
    {
      "cell_type": "code",
      "metadata": {
        "id": "PZ6P-znLB5Pj",
        "colab_type": "code",
        "colab": {}
      },
      "source": [
        "mapping1 = {'Business':int(1), 'Personal':int(0)}\n",
        "mapping2 = {'Bike':int(1)}\n",
        "train=train.replace({'Personal or Business': mapping1, 'Vehicle Type': mapping2})"
      ],
      "execution_count": 0,
      "outputs": []
    },
    {
      "cell_type": "code",
      "metadata": {
        "id": "exESZarBB5Pm",
        "colab_type": "code",
        "colab": {}
      },
      "source": [
        "#train[\"Vehicle Type\"] = pd.to_numeric(train[\"Vehicle Type\"])\n",
        "train['Vehicle Type'] = train['Vehicle Type'].apply(pd.to_numeric, errors='coerce')"
      ],
      "execution_count": 0,
      "outputs": []
    },
    {
      "cell_type": "code",
      "metadata": {
        "id": "HnnFj0NfB5Pq",
        "colab_type": "code",
        "colab": {
          "base_uri": "https://localhost:8080/",
          "height": 958
        },
        "outputId": "175050ff-f257-4227-a164-22d7a78958a8"
      },
      "source": [
        "train.info()"
      ],
      "execution_count": 136,
      "outputs": [
        {
          "output_type": "stream",
          "text": [
            "<class 'pandas.core.frame.DataFrame'>\n",
            "Int64Index: 16835 entries, 0 to 21200\n",
            "Data columns (total 49 columns):\n",
            " #   Column                                     Non-Null Count  Dtype  \n",
            "---  ------                                     --------------  -----  \n",
            " 0   Vehicle Type                               16835 non-null  int64  \n",
            " 1   Platform Type                              16835 non-null  int64  \n",
            " 2   Personal or Business                       16835 non-null  int64  \n",
            " 3   Placement - Day of Month                   16835 non-null  int64  \n",
            " 4   Placement - Weekday (Mo = 1)               16835 non-null  int64  \n",
            " 5   Confirmation - Day of Month                16835 non-null  int64  \n",
            " 6   Confirmation - Weekday (Mo = 1)            16835 non-null  int64  \n",
            " 7   Arrival at Pickup - Day of Month           16835 non-null  int64  \n",
            " 8   Arrival at Pickup - Weekday (Mo = 1)       16835 non-null  int64  \n",
            " 9   Pickup - Day of Month                      16835 non-null  int64  \n",
            " 10  Pickup - Weekday (Mo = 1)                  16835 non-null  int64  \n",
            " 11  Arrival at Destination - Day of Month      16835 non-null  int64  \n",
            " 12  Arrival at Destination - Weekday (Mo = 1)  16835 non-null  int64  \n",
            " 13  Distance (KM)                              16835 non-null  int64  \n",
            " 14  Temperature                                16835 non-null  float64\n",
            " 15  Pickup Lat                                 16835 non-null  float64\n",
            " 16  Pickup Long                                16835 non-null  float64\n",
            " 17  Destination Lat                            16835 non-null  float64\n",
            " 18  Destination Long                           16835 non-null  float64\n",
            " 19  hour                                       16835 non-null  int64  \n",
            " 20  month                                      16835 non-null  int64  \n",
            " 21  day                                        16835 non-null  int64  \n",
            " 22  minute                                     16835 non-null  int64  \n",
            " 23  second                                     16835 non-null  int64  \n",
            " 24  hour1                                      16835 non-null  int64  \n",
            " 25  month1                                     16835 non-null  int64  \n",
            " 26  day1                                       16835 non-null  int64  \n",
            " 27  minute1                                    16835 non-null  int64  \n",
            " 28  second1                                    16835 non-null  int64  \n",
            " 29  hour2                                      16835 non-null  int64  \n",
            " 30  month2                                     16835 non-null  int64  \n",
            " 31  day2                                       16835 non-null  int64  \n",
            " 32  minute2                                    16835 non-null  int64  \n",
            " 33  second2                                    16835 non-null  int64  \n",
            " 34  hour3                                      16835 non-null  int64  \n",
            " 35  month3                                     16835 non-null  int64  \n",
            " 36  day3                                       16835 non-null  int64  \n",
            " 37  minute3                                    16835 non-null  int64  \n",
            " 38  second3                                    16835 non-null  int64  \n",
            " 39  No_Of_Orders                               16835 non-null  int64  \n",
            " 40  Age                                        16835 non-null  int64  \n",
            " 41  Average_Rating                             16835 non-null  float64\n",
            " 42  No_of_Ratings                              16835 non-null  int64  \n",
            " 43  other                                      16835 non-null  int64  \n",
            " 44  other1                                     16835 non-null  int64  \n",
            " 45  other2                                     16835 non-null  int64  \n",
            " 46  other3                                     16835 non-null  int64  \n",
            " 47  pourc                                      16810 non-null  float64\n",
            " 48  h1                                         16835 non-null  int64  \n",
            "dtypes: float64(7), int64(42)\n",
            "memory usage: 6.4 MB\n"
          ],
          "name": "stdout"
        }
      ]
    },
    {
      "cell_type": "code",
      "metadata": {
        "id": "AcWhirDQB5Pt",
        "colab_type": "code",
        "colab": {}
      },
      "source": [
        "test.drop(columns=['Order No','User Id','Placement - Time','Confirmation - Time','Arrival at Pickup - Time','Pickup - Time','Rider Id'], axis=1,inplace=True)\n"
      ],
      "execution_count": 0,
      "outputs": []
    },
    {
      "cell_type": "code",
      "metadata": {
        "id": "1MJvAuNvB5Pw",
        "colab_type": "code",
        "colab": {}
      },
      "source": [
        "mapping1 = {'Business':int(1), 'Personal':int(0)}\n",
        "mapping2 = {'Bike':int(1)}\n",
        "test=test.replace({'Personal or Business': mapping1, 'Vehicle Type': mapping2})"
      ],
      "execution_count": 0,
      "outputs": []
    },
    {
      "cell_type": "code",
      "metadata": {
        "id": "nt88MLueB5P3",
        "colab_type": "code",
        "colab": {
          "base_uri": "https://localhost:8080/",
          "height": 316
        },
        "outputId": "2236fea7-e029-48ff-efd3-26b0de8c6958"
      },
      "source": [
        "test.head()"
      ],
      "execution_count": 139,
      "outputs": [
        {
          "output_type": "execute_result",
          "data": {
            "text/html": [
              "<div>\n",
              "<style scoped>\n",
              "    .dataframe tbody tr th:only-of-type {\n",
              "        vertical-align: middle;\n",
              "    }\n",
              "\n",
              "    .dataframe tbody tr th {\n",
              "        vertical-align: top;\n",
              "    }\n",
              "\n",
              "    .dataframe thead th {\n",
              "        text-align: right;\n",
              "    }\n",
              "</style>\n",
              "<table border=\"1\" class=\"dataframe\">\n",
              "  <thead>\n",
              "    <tr style=\"text-align: right;\">\n",
              "      <th></th>\n",
              "      <th>Vehicle Type</th>\n",
              "      <th>Platform Type</th>\n",
              "      <th>Personal or Business</th>\n",
              "      <th>Placement - Day of Month</th>\n",
              "      <th>Placement - Weekday (Mo = 1)</th>\n",
              "      <th>Confirmation - Day of Month</th>\n",
              "      <th>Confirmation - Weekday (Mo = 1)</th>\n",
              "      <th>Arrival at Pickup - Day of Month</th>\n",
              "      <th>Arrival at Pickup - Weekday (Mo = 1)</th>\n",
              "      <th>Pickup - Day of Month</th>\n",
              "      <th>Pickup - Weekday (Mo = 1)</th>\n",
              "      <th>Distance (KM)</th>\n",
              "      <th>Temperature</th>\n",
              "      <th>Precipitation in millimeters</th>\n",
              "      <th>Pickup Lat</th>\n",
              "      <th>Pickup Long</th>\n",
              "      <th>Destination Lat</th>\n",
              "      <th>Destination Long</th>\n",
              "      <th>hour</th>\n",
              "      <th>month</th>\n",
              "      <th>day</th>\n",
              "      <th>minute</th>\n",
              "      <th>second</th>\n",
              "      <th>hour1</th>\n",
              "      <th>month1</th>\n",
              "      <th>day1</th>\n",
              "      <th>minute1</th>\n",
              "      <th>second1</th>\n",
              "      <th>hour2</th>\n",
              "      <th>month2</th>\n",
              "      <th>day2</th>\n",
              "      <th>minute2</th>\n",
              "      <th>second2</th>\n",
              "      <th>hour3</th>\n",
              "      <th>month3</th>\n",
              "      <th>day3</th>\n",
              "      <th>minute3</th>\n",
              "      <th>second3</th>\n",
              "      <th>No_Of_Orders</th>\n",
              "      <th>Age</th>\n",
              "      <th>Average_Rating</th>\n",
              "      <th>No_of_Ratings</th>\n",
              "      <th>other</th>\n",
              "      <th>other1</th>\n",
              "      <th>other2</th>\n",
              "      <th>other3</th>\n",
              "      <th>pourc</th>\n",
              "      <th>h1</th>\n",
              "    </tr>\n",
              "  </thead>\n",
              "  <tbody>\n",
              "    <tr>\n",
              "      <th>0</th>\n",
              "      <td>1</td>\n",
              "      <td>3</td>\n",
              "      <td>1</td>\n",
              "      <td>27</td>\n",
              "      <td>3</td>\n",
              "      <td>27</td>\n",
              "      <td>3</td>\n",
              "      <td>27</td>\n",
              "      <td>3</td>\n",
              "      <td>27</td>\n",
              "      <td>3</td>\n",
              "      <td>8</td>\n",
              "      <td>NaN</td>\n",
              "      <td>7.92</td>\n",
              "      <td>-1.333275</td>\n",
              "      <td>36.870815</td>\n",
              "      <td>-1.305249</td>\n",
              "      <td>36.822390</td>\n",
              "      <td>16</td>\n",
              "      <td>6</td>\n",
              "      <td>2</td>\n",
              "      <td>44</td>\n",
              "      <td>10</td>\n",
              "      <td>16</td>\n",
              "      <td>6</td>\n",
              "      <td>2</td>\n",
              "      <td>44</td>\n",
              "      <td>29</td>\n",
              "      <td>16</td>\n",
              "      <td>6</td>\n",
              "      <td>2</td>\n",
              "      <td>53</td>\n",
              "      <td>4</td>\n",
              "      <td>17</td>\n",
              "      <td>6</td>\n",
              "      <td>2</td>\n",
              "      <td>6</td>\n",
              "      <td>47</td>\n",
              "      <td>439</td>\n",
              "      <td>1511</td>\n",
              "      <td>13.3</td>\n",
              "      <td>171</td>\n",
              "      <td>60250</td>\n",
              "      <td>60269</td>\n",
              "      <td>60784</td>\n",
              "      <td>61607</td>\n",
              "      <td>100.0</td>\n",
              "      <td>81</td>\n",
              "    </tr>\n",
              "    <tr>\n",
              "      <th>1</th>\n",
              "      <td>1</td>\n",
              "      <td>3</td>\n",
              "      <td>1</td>\n",
              "      <td>17</td>\n",
              "      <td>5</td>\n",
              "      <td>17</td>\n",
              "      <td>5</td>\n",
              "      <td>17</td>\n",
              "      <td>5</td>\n",
              "      <td>17</td>\n",
              "      <td>5</td>\n",
              "      <td>5</td>\n",
              "      <td>NaN</td>\n",
              "      <td>7.92</td>\n",
              "      <td>-1.272639</td>\n",
              "      <td>36.794723</td>\n",
              "      <td>-1.277007</td>\n",
              "      <td>36.823907</td>\n",
              "      <td>12</td>\n",
              "      <td>6</td>\n",
              "      <td>2</td>\n",
              "      <td>57</td>\n",
              "      <td>35</td>\n",
              "      <td>12</td>\n",
              "      <td>6</td>\n",
              "      <td>2</td>\n",
              "      <td>59</td>\n",
              "      <td>17</td>\n",
              "      <td>13</td>\n",
              "      <td>6</td>\n",
              "      <td>2</td>\n",
              "      <td>20</td>\n",
              "      <td>27</td>\n",
              "      <td>13</td>\n",
              "      <td>6</td>\n",
              "      <td>2</td>\n",
              "      <td>25</td>\n",
              "      <td>37</td>\n",
              "      <td>488</td>\n",
              "      <td>273</td>\n",
              "      <td>14.4</td>\n",
              "      <td>45</td>\n",
              "      <td>46655</td>\n",
              "      <td>46757</td>\n",
              "      <td>48027</td>\n",
              "      <td>48337</td>\n",
              "      <td>100.0</td>\n",
              "      <td>85</td>\n",
              "    </tr>\n",
              "    <tr>\n",
              "      <th>2</th>\n",
              "      <td>1</td>\n",
              "      <td>3</td>\n",
              "      <td>1</td>\n",
              "      <td>27</td>\n",
              "      <td>4</td>\n",
              "      <td>27</td>\n",
              "      <td>4</td>\n",
              "      <td>27</td>\n",
              "      <td>4</td>\n",
              "      <td>27</td>\n",
              "      <td>4</td>\n",
              "      <td>5</td>\n",
              "      <td>22.8</td>\n",
              "      <td>7.92</td>\n",
              "      <td>-1.290894</td>\n",
              "      <td>36.822971</td>\n",
              "      <td>-1.276574</td>\n",
              "      <td>36.851365</td>\n",
              "      <td>11</td>\n",
              "      <td>6</td>\n",
              "      <td>2</td>\n",
              "      <td>8</td>\n",
              "      <td>14</td>\n",
              "      <td>11</td>\n",
              "      <td>6</td>\n",
              "      <td>2</td>\n",
              "      <td>25</td>\n",
              "      <td>5</td>\n",
              "      <td>11</td>\n",
              "      <td>6</td>\n",
              "      <td>2</td>\n",
              "      <td>33</td>\n",
              "      <td>20</td>\n",
              "      <td>11</td>\n",
              "      <td>6</td>\n",
              "      <td>2</td>\n",
              "      <td>57</td>\n",
              "      <td>54</td>\n",
              "      <td>833</td>\n",
              "      <td>460</td>\n",
              "      <td>13.1</td>\n",
              "      <td>67</td>\n",
              "      <td>40094</td>\n",
              "      <td>41105</td>\n",
              "      <td>41600</td>\n",
              "      <td>43074</td>\n",
              "      <td>100.0</td>\n",
              "      <td>108</td>\n",
              "    </tr>\n",
              "    <tr>\n",
              "      <th>3</th>\n",
              "      <td>1</td>\n",
              "      <td>3</td>\n",
              "      <td>1</td>\n",
              "      <td>17</td>\n",
              "      <td>1</td>\n",
              "      <td>17</td>\n",
              "      <td>1</td>\n",
              "      <td>17</td>\n",
              "      <td>1</td>\n",
              "      <td>17</td>\n",
              "      <td>1</td>\n",
              "      <td>5</td>\n",
              "      <td>24.5</td>\n",
              "      <td>7.92</td>\n",
              "      <td>-1.290503</td>\n",
              "      <td>36.809646</td>\n",
              "      <td>-1.303382</td>\n",
              "      <td>36.790658</td>\n",
              "      <td>13</td>\n",
              "      <td>6</td>\n",
              "      <td>2</td>\n",
              "      <td>51</td>\n",
              "      <td>35</td>\n",
              "      <td>13</td>\n",
              "      <td>6</td>\n",
              "      <td>2</td>\n",
              "      <td>53</td>\n",
              "      <td>27</td>\n",
              "      <td>14</td>\n",
              "      <td>6</td>\n",
              "      <td>2</td>\n",
              "      <td>2</td>\n",
              "      <td>41</td>\n",
              "      <td>14</td>\n",
              "      <td>6</td>\n",
              "      <td>2</td>\n",
              "      <td>16</td>\n",
              "      <td>52</td>\n",
              "      <td>487</td>\n",
              "      <td>560</td>\n",
              "      <td>13.7</td>\n",
              "      <td>44</td>\n",
              "      <td>49895</td>\n",
              "      <td>50007</td>\n",
              "      <td>50561</td>\n",
              "      <td>51412</td>\n",
              "      <td>100.0</td>\n",
              "      <td>17</td>\n",
              "    </tr>\n",
              "    <tr>\n",
              "      <th>4</th>\n",
              "      <td>1</td>\n",
              "      <td>3</td>\n",
              "      <td>1</td>\n",
              "      <td>11</td>\n",
              "      <td>2</td>\n",
              "      <td>11</td>\n",
              "      <td>2</td>\n",
              "      <td>11</td>\n",
              "      <td>2</td>\n",
              "      <td>11</td>\n",
              "      <td>2</td>\n",
              "      <td>6</td>\n",
              "      <td>24.4</td>\n",
              "      <td>7.92</td>\n",
              "      <td>-1.281081</td>\n",
              "      <td>36.814423</td>\n",
              "      <td>-1.266467</td>\n",
              "      <td>36.792161</td>\n",
              "      <td>11</td>\n",
              "      <td>6</td>\n",
              "      <td>2</td>\n",
              "      <td>30</td>\n",
              "      <td>28</td>\n",
              "      <td>11</td>\n",
              "      <td>6</td>\n",
              "      <td>2</td>\n",
              "      <td>34</td>\n",
              "      <td>45</td>\n",
              "      <td>11</td>\n",
              "      <td>6</td>\n",
              "      <td>2</td>\n",
              "      <td>47</td>\n",
              "      <td>19</td>\n",
              "      <td>11</td>\n",
              "      <td>6</td>\n",
              "      <td>2</td>\n",
              "      <td>56</td>\n",
              "      <td>4</td>\n",
              "      <td>4761</td>\n",
              "      <td>1120</td>\n",
              "      <td>14.1</td>\n",
              "      <td>1010</td>\n",
              "      <td>41428</td>\n",
              "      <td>41685</td>\n",
              "      <td>42439</td>\n",
              "      <td>42964</td>\n",
              "      <td>100.0</td>\n",
              "      <td>22</td>\n",
              "    </tr>\n",
              "  </tbody>\n",
              "</table>\n",
              "</div>"
            ],
            "text/plain": [
              "   Vehicle Type  Platform Type  Personal or Business  ...  other3  pourc   h1\n",
              "0             1              3                     1  ...   61607  100.0   81\n",
              "1             1              3                     1  ...   48337  100.0   85\n",
              "2             1              3                     1  ...   43074  100.0  108\n",
              "3             1              3                     1  ...   51412  100.0   17\n",
              "4             1              3                     1  ...   42964  100.0   22\n",
              "\n",
              "[5 rows x 48 columns]"
            ]
          },
          "metadata": {
            "tags": []
          },
          "execution_count": 139
        }
      ]
    },
    {
      "cell_type": "code",
      "metadata": {
        "id": "ssLRMyCDB5P-",
        "colab_type": "code",
        "colab": {
          "base_uri": "https://localhost:8080/",
          "height": 840
        },
        "outputId": "7bd4d14d-ed35-46c1-8986-28fba35d69c6"
      },
      "source": [
        "test.isnull().sum()"
      ],
      "execution_count": 140,
      "outputs": [
        {
          "output_type": "execute_result",
          "data": {
            "text/plain": [
              "Vehicle Type                               0\n",
              "Platform Type                              0\n",
              "Personal or Business                       0\n",
              "Placement - Day of Month                   0\n",
              "Placement - Weekday (Mo = 1)               0\n",
              "Confirmation - Day of Month                0\n",
              "Confirmation - Weekday (Mo = 1)            0\n",
              "Arrival at Pickup - Day of Month           0\n",
              "Arrival at Pickup - Weekday (Mo = 1)       0\n",
              "Pickup - Day of Month                      0\n",
              "Pickup - Weekday (Mo = 1)                  0\n",
              "Distance (KM)                              0\n",
              "Temperature                             1437\n",
              "Precipitation in millimeters               0\n",
              "Pickup Lat                                 0\n",
              "Pickup Long                                0\n",
              "Destination Lat                            0\n",
              "Destination Long                           0\n",
              "hour                                       0\n",
              "month                                      0\n",
              "day                                        0\n",
              "minute                                     0\n",
              "second                                     0\n",
              "hour1                                      0\n",
              "month1                                     0\n",
              "day1                                       0\n",
              "minute1                                    0\n",
              "second1                                    0\n",
              "hour2                                      0\n",
              "month2                                     0\n",
              "day2                                       0\n",
              "minute2                                    0\n",
              "second2                                    0\n",
              "hour3                                      0\n",
              "month3                                     0\n",
              "day3                                       0\n",
              "minute3                                    0\n",
              "second3                                    0\n",
              "No_Of_Orders                               0\n",
              "Age                                        0\n",
              "Average_Rating                             0\n",
              "No_of_Ratings                              0\n",
              "other                                      0\n",
              "other1                                     0\n",
              "other2                                     0\n",
              "other3                                     0\n",
              "pourc                                      6\n",
              "h1                                         0\n",
              "dtype: int64"
            ]
          },
          "metadata": {
            "tags": []
          },
          "execution_count": 140
        }
      ]
    },
    {
      "cell_type": "code",
      "metadata": {
        "id": "uSj_OREdB5QC",
        "colab_type": "code",
        "colab": {
          "base_uri": "https://localhost:8080/",
          "height": 958
        },
        "outputId": "05354edb-5d30-4577-a30a-b009df4aca82"
      },
      "source": [
        "train.info()"
      ],
      "execution_count": 141,
      "outputs": [
        {
          "output_type": "stream",
          "text": [
            "<class 'pandas.core.frame.DataFrame'>\n",
            "Int64Index: 16835 entries, 0 to 21200\n",
            "Data columns (total 49 columns):\n",
            " #   Column                                     Non-Null Count  Dtype  \n",
            "---  ------                                     --------------  -----  \n",
            " 0   Vehicle Type                               16835 non-null  int64  \n",
            " 1   Platform Type                              16835 non-null  int64  \n",
            " 2   Personal or Business                       16835 non-null  int64  \n",
            " 3   Placement - Day of Month                   16835 non-null  int64  \n",
            " 4   Placement - Weekday (Mo = 1)               16835 non-null  int64  \n",
            " 5   Confirmation - Day of Month                16835 non-null  int64  \n",
            " 6   Confirmation - Weekday (Mo = 1)            16835 non-null  int64  \n",
            " 7   Arrival at Pickup - Day of Month           16835 non-null  int64  \n",
            " 8   Arrival at Pickup - Weekday (Mo = 1)       16835 non-null  int64  \n",
            " 9   Pickup - Day of Month                      16835 non-null  int64  \n",
            " 10  Pickup - Weekday (Mo = 1)                  16835 non-null  int64  \n",
            " 11  Arrival at Destination - Day of Month      16835 non-null  int64  \n",
            " 12  Arrival at Destination - Weekday (Mo = 1)  16835 non-null  int64  \n",
            " 13  Distance (KM)                              16835 non-null  int64  \n",
            " 14  Temperature                                16835 non-null  float64\n",
            " 15  Pickup Lat                                 16835 non-null  float64\n",
            " 16  Pickup Long                                16835 non-null  float64\n",
            " 17  Destination Lat                            16835 non-null  float64\n",
            " 18  Destination Long                           16835 non-null  float64\n",
            " 19  hour                                       16835 non-null  int64  \n",
            " 20  month                                      16835 non-null  int64  \n",
            " 21  day                                        16835 non-null  int64  \n",
            " 22  minute                                     16835 non-null  int64  \n",
            " 23  second                                     16835 non-null  int64  \n",
            " 24  hour1                                      16835 non-null  int64  \n",
            " 25  month1                                     16835 non-null  int64  \n",
            " 26  day1                                       16835 non-null  int64  \n",
            " 27  minute1                                    16835 non-null  int64  \n",
            " 28  second1                                    16835 non-null  int64  \n",
            " 29  hour2                                      16835 non-null  int64  \n",
            " 30  month2                                     16835 non-null  int64  \n",
            " 31  day2                                       16835 non-null  int64  \n",
            " 32  minute2                                    16835 non-null  int64  \n",
            " 33  second2                                    16835 non-null  int64  \n",
            " 34  hour3                                      16835 non-null  int64  \n",
            " 35  month3                                     16835 non-null  int64  \n",
            " 36  day3                                       16835 non-null  int64  \n",
            " 37  minute3                                    16835 non-null  int64  \n",
            " 38  second3                                    16835 non-null  int64  \n",
            " 39  No_Of_Orders                               16835 non-null  int64  \n",
            " 40  Age                                        16835 non-null  int64  \n",
            " 41  Average_Rating                             16835 non-null  float64\n",
            " 42  No_of_Ratings                              16835 non-null  int64  \n",
            " 43  other                                      16835 non-null  int64  \n",
            " 44  other1                                     16835 non-null  int64  \n",
            " 45  other2                                     16835 non-null  int64  \n",
            " 46  other3                                     16835 non-null  int64  \n",
            " 47  pourc                                      16810 non-null  float64\n",
            " 48  h1                                         16835 non-null  int64  \n",
            "dtypes: float64(7), int64(42)\n",
            "memory usage: 6.4 MB\n"
          ],
          "name": "stdout"
        }
      ]
    },
    {
      "cell_type": "code",
      "metadata": {
        "id": "AtCzQ6PkB5QG",
        "colab_type": "code",
        "colab": {}
      },
      "source": [
        "train.drop('Arrival at Destination - Day of Month',axis=1,inplace=True)"
      ],
      "execution_count": 0,
      "outputs": []
    },
    {
      "cell_type": "code",
      "metadata": {
        "id": "roA7NtDLB5QJ",
        "colab_type": "code",
        "colab": {}
      },
      "source": [
        "train.drop('Arrival at Destination - Weekday (Mo = 1)',axis=1,inplace=True)"
      ],
      "execution_count": 0,
      "outputs": []
    },
    {
      "cell_type": "code",
      "metadata": {
        "id": "Hh2X-juhB5QL",
        "colab_type": "code",
        "colab": {}
      },
      "source": [
        "test.drop('Precipitation in millimeters',axis=1,inplace=True)"
      ],
      "execution_count": 0,
      "outputs": []
    },
    {
      "cell_type": "code",
      "metadata": {
        "id": "NrA1LQ3AB5QN",
        "colab_type": "code",
        "colab": {}
      },
      "source": [
        "#test.drop('Age',axis=1,inplace=True)\n",
        "#train.drop('Age',axis=1,inplace=True)"
      ],
      "execution_count": 0,
      "outputs": []
    },
    {
      "cell_type": "code",
      "metadata": {
        "id": "wC3P2iuqB5QQ",
        "colab_type": "code",
        "colab": {
          "base_uri": "https://localhost:8080/",
          "height": 34
        },
        "outputId": "6e8ab246-d712-4f3b-980a-dea42835d56b"
      },
      "source": [
        "test['Temperature'].mean()"
      ],
      "execution_count": 146,
      "outputs": [
        {
          "output_type": "execute_result",
          "data": {
            "text/plain": [
              "23.246119694548046"
            ]
          },
          "metadata": {
            "tags": []
          },
          "execution_count": 146
        }
      ]
    },
    {
      "cell_type": "code",
      "metadata": {
        "id": "DIuZepqCB5QV",
        "colab_type": "code",
        "colab": {}
      },
      "source": [
        "test['Temperature'].fillna(20, inplace=True)"
      ],
      "execution_count": 0,
      "outputs": []
    },
    {
      "cell_type": "code",
      "metadata": {
        "id": "VLhpfNycB5Qh",
        "colab_type": "code",
        "colab": {
          "base_uri": "https://localhost:8080/",
          "height": 151
        },
        "outputId": "978d6304-b35b-455e-cbc7-4d51b6fa6d2d"
      },
      "source": [
        "import xgboost as xgb\n",
        "clf = xgb.XGBRegressor(base_score=0.8,max_depth=6,booster='gbtree',eta=0.5,gamma=0.5,n_estimators = 150,eval_metric='auc')\n",
        "clf.fit(train,target) "
      ],
      "execution_count": 148,
      "outputs": [
        {
          "output_type": "stream",
          "text": [
            "[17:23:46] WARNING: /workspace/src/objective/regression_obj.cu:152: reg:linear is now deprecated in favor of reg:squarederror.\n"
          ],
          "name": "stdout"
        },
        {
          "output_type": "execute_result",
          "data": {
            "text/plain": [
              "XGBRegressor(base_score=0.8, booster='gbtree', colsample_bylevel=1,\n",
              "             colsample_bynode=1, colsample_bytree=1, eta=0.5, eval_metric='auc',\n",
              "             gamma=0.5, importance_type='gain', learning_rate=0.1,\n",
              "             max_delta_step=0, max_depth=6, min_child_weight=1, missing=None,\n",
              "             n_estimators=150, n_jobs=1, nthread=None, objective='reg:linear',\n",
              "             random_state=0, reg_alpha=0, reg_lambda=1, scale_pos_weight=1,\n",
              "             seed=None, silent=None, subsample=1, verbosity=1)"
            ]
          },
          "metadata": {
            "tags": []
          },
          "execution_count": 148
        }
      ]
    },
    {
      "cell_type": "code",
      "metadata": {
        "id": "AOwcsJinB5Qn",
        "colab_type": "code",
        "colab": {
          "base_uri": "https://localhost:8080/",
          "height": 50
        },
        "outputId": "a42fb4cb-2383-4aa0-99ac-a041917c0c42"
      },
      "source": [
        "p=clf.predict(test)\n",
        "p"
      ],
      "execution_count": 149,
      "outputs": [
        {
          "output_type": "execute_result",
          "data": {
            "text/plain": [
              "array([1667.9294, 1370.1846, 1279.9899, ..., 1631.3273, 2452.8933,\n",
              "       1647.8604], dtype=float32)"
            ]
          },
          "metadata": {
            "tags": []
          },
          "execution_count": 149
        }
      ]
    },
    {
      "cell_type": "code",
      "metadata": {
        "id": "vIdTx-5hB5Q7",
        "colab_type": "code",
        "colab": {}
      },
      "source": [
        "submission = pd.DataFrame(index=test.index,columns=['Order No','Time from Pickup to Arrival'])\n",
        "submission['Order No'] = test['Order No']\n",
        "submission['Time from Pickup to Arrival'] =moyenne\n",
        "## create submit_file\n",
        "submission.to_csv('C:/Users/21699/Desktop/ML/Competition_ID/Sendy logistics challenge/solution.csv',index=False)"
      ],
      "execution_count": 0,
      "outputs": []
    },
    {
      "cell_type": "code",
      "metadata": {
        "id": "T3mlTS_4B5Q-",
        "colab_type": "code",
        "colab": {}
      },
      "source": [
        "#h=pd.read_csv('C:/Users/21699/Desktop/ML/Competition_ID/Sendy logistics challenge/yourpath30.csv')\n",
        "h1=pd.read_csv('C:/Users/21699/Desktop/ML/Competition_ID/Sendy logistics challenge/yourpath49.csv')\n",
        "h2=pd.read_csv('C:/Users/21699/Desktop/ML/Competition_ID/Sendy logistics challenge/yourpath52.csv')\n",
        "#h3=pd.read_csv('C:/Users/21699/Desktop/ML/Competition_ID/Sendy logistics challenge/yourpath47.csv')\n",
        "#h4=pd.read_csv('C:/Users/21699/Desktop/ML/Competition_ID/Sendy logistics challenge/yourpath48.csv')\n",
        "\n"
      ],
      "execution_count": 0,
      "outputs": []
    },
    {
      "cell_type": "code",
      "metadata": {
        "id": "5q7UELA6B5RE",
        "colab_type": "code",
        "colab": {}
      },
      "source": [
        "somme=5*h1['Time from Pickup to Arrival']+10*h2['Time from Pickup to Arrival']"
      ],
      "execution_count": 0,
      "outputs": []
    },
    {
      "cell_type": "code",
      "metadata": {
        "id": "VzI71WelB5RK",
        "colab_type": "code",
        "colab": {}
      },
      "source": [
        "moyenne=somme/15"
      ],
      "execution_count": 0,
      "outputs": []
    },
    {
      "cell_type": "code",
      "metadata": {
        "id": "nj36VIViB5RP",
        "colab_type": "code",
        "colab": {}
      },
      "source": [
        ""
      ],
      "execution_count": 0,
      "outputs": []
    }
  ]
}